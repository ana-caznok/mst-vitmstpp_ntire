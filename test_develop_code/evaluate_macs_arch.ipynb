{
 "cells": [
  {
   "cell_type": "code",
   "execution_count": null,
   "metadata": {},
   "outputs": [],
   "source": [
    "import numpy as np \n",
    "import matplotlib.pyplot as plt \n",
    "import glob \n",
    "import time \n",
    "import h5py\n",
    "import cv2\n",
    "import torchinfo \n",
    "import torch\n",
    "import torch.nn as nn\n",
    "import argparse\n",
    "import torch.optim as optim\n",
    "import torch.backends.cudnn as cudnn\n",
    "from torch.utils.data import DataLoader\n",
    "from torch.autograd import Variable\n",
    "import os\n",
    "from hsi_dataset import TrainDataset, ValidDataset\n",
    "from architecture import *\n",
    "from utils import *\n",
    "\n",
    "import datetime\n",
    "import wandb\n",
    "import time "
   ]
  },
  {
   "cell_type": "code",
   "execution_count": null,
   "metadata": {},
   "outputs": [],
   "source": [
    "models = ['hscnn_plus', 'restormer','mst_plus_plus' ,'vitmstpp', 'vitmstpp_pad']"
   ]
  },
  {
   "cell_type": "code",
   "execution_count": null,
   "metadata": {},
   "outputs": [],
   "source": [
    "models_dict = {}\n",
    "inputs = [128, 256, 384, 512, 768, 1024]\n",
    "macs_dict = {}\n",
    "for md in models:\n",
    "    print(' ')\n",
    "    print(' ') \n",
    "    print(md)\n",
    "    model = model_generator(md).cuda()\n",
    "    macs_dict[md] = []\n",
    "    for i in inputs: \n",
    "        torch.cuda.empty_cache()\n",
    "        nm = md +'_' + str(i)\n",
    "        print(nm)\n",
    "        models_dict[nm] = {}\n",
    "        print('TORCHINFO')\n",
    "        try: \n",
    "            summary_str = str(torchinfo.summary(model, input_size=(2,3,i,i)))\n",
    "            models_dict[nm]['MACs'] = summary_str.split('Total mult-adds ')[1].split('\\n')[0]\n",
    "            models_dict[nm]['tot_size'] = summary_str.split('Estimated Total Size ')[1].split('\\n')[0]\n",
    "            models_dict[nm]['trainable'] = int(summary_str.split('Trainable params: ')[1].split('\\n')[0].replace(',',''))\n",
    "        except: \n",
    "            del model \n",
    "            torch.cuda.empty_cache()\n",
    "            print('NOT ABLE TO SCALE TO 1024')\n",
    "            print(nm)\n",
    "\n",
    "        if i <= 256: \n",
    "            n_params, gmac = my_summary(model, i, i, 3, 2)\n",
    "            models_dict[nm]['n_params'] = int(n_params)\n",
    "            models_dict[nm]['gmac'] = float(gmac)\n",
    "\n",
    "        if 'T' in models_dict[nm]['MACs']: \n",
    "            macs = float(models_dict[nm]['MACs'].split(': ')[1])*1000\n",
    "            macs_dict[md].append(macs)\n",
    "        elif 'G' in models_dict[nm]['MACs']: \n",
    "            macs = float(models_dict[nm]['MACs'].split(': ')[1])\n",
    "            macs_dict[md].append(macs)\n",
    "        else:\n",
    "            print('error')\n",
    "        \n",
    "    del model"
   ]
  },
  {
   "cell_type": "code",
   "execution_count": null,
   "metadata": {},
   "outputs": [],
   "source": [
    "model = model_generator(md).cuda()\n",
    "my_summary(model, i, i, 3, 2)"
   ]
  },
  {
   "cell_type": "code",
   "execution_count": null,
   "metadata": {},
   "outputs": [],
   "source": [
    "models_dict['hscnn_plus_256']['n_params']"
   ]
  },
  {
   "cell_type": "code",
   "execution_count": null,
   "metadata": {},
   "outputs": [],
   "source": [
    "models_dict['mst_plus_plus_1024']['n_params']"
   ]
  },
  {
   "cell_type": "code",
   "execution_count": null,
   "metadata": {},
   "outputs": [],
   "source": [
    "def plot_macs(inputs, macs_dict): \n",
    "    plt.figure(figsize=(10,10))\n",
    "    plt.ylabel('MACs', fontsize=16)\n",
    "    plt.xlabel('Input Size (px)', fontsize=16)\n",
    "    for k in macs_dict: \n",
    "        plt.plot(np.array(macs_dict[k]),np.array(inputs))\n",
    "        \n",
    "    plt.legend()\n",
    "    plt.show()"
   ]
  },
  {
   "cell_type": "code",
   "execution_count": null,
   "metadata": {},
   "outputs": [],
   "source": [
    "list(macs_dict.keys())"
   ]
  },
  {
   "cell_type": "code",
   "execution_count": null,
   "metadata": {},
   "outputs": [],
   "source": [
    "plt.figure(figsize=(10,10))\n",
    "plt.ylabel('MACs (G)', fontsize=16)\n",
    "plt.xlabel('Input Size (px)', fontsize=16)\n",
    "for k in macs_dict: \n",
    "    plt.plot(np.array(inputs),np.array(macs_dict[k]), 'o-')\n",
    "    \n",
    "plt.legend(list(macs_dict.keys()))\n",
    "plt.show()"
   ]
  },
  {
   "cell_type": "code",
   "execution_count": null,
   "metadata": {},
   "outputs": [],
   "source": [
    "save_path = '/mnt/datassd/mst_toolbox/mst-vitmstpp_ntire/'\n",
    "plt.figure(figsize=(10,8))\n",
    "plt.ylabel('Log(MACs (G))', fontsize=18)\n",
    "plt.xlabel('Input Size (px)', fontsize=18)\n",
    "for k in macs_dict: \n",
    "    if k == 'vitmstpp_pad': \n",
    "        continue\n",
    "    else: \n",
    "        plt.plot(np.array(inputs),np.log(np.array(macs_dict[k])), 'o-')\n",
    "    \n",
    "plt.legend(list(macs_dict.keys()), fontsize = 14)\n",
    "plt.xticks(inputs, fontsize=12)\n",
    "plt.title('Architecture scaling')\n",
    "plt.savefig(save_path + 'figure_logmacs_no-pad.png', dpi=800)\n",
    "plt.show()"
   ]
  },
  {
   "cell_type": "code",
   "execution_count": null,
   "metadata": {},
   "outputs": [],
   "source": [
    "models_dict"
   ]
  },
  {
   "cell_type": "code",
   "execution_count": null,
   "metadata": {},
   "outputs": [],
   "source": [
    "del model"
   ]
  },
  {
   "cell_type": "code",
   "execution_count": null,
   "metadata": {},
   "outputs": [],
   "source": [
    "md = 'restormer'\n",
    "model = model_generator(md).cuda()\n",
    "summary_str = str(torchinfo.summary(model, input_size=(1,3,1024,1024)))\n",
    "del model\n",
    "\n",
    "\n",
    "#models_dict[nm]['MACs'] = summary_str.split('Total mult-adds ')[1].split('\\n')[0]\n",
    "#models_dict[nm]['tot_size'] = summary_str.split('Estimated Total Size ')[1].split('\\n')[0]\n",
    "#models_dict[nm]['trainable'] = int(summary_str.split('Trainable params: ')[1].split('\\n')[0].replace(',',''))"
   ]
  },
  {
   "cell_type": "code",
   "execution_count": null,
   "metadata": {},
   "outputs": [],
   "source": [
    "del model"
   ]
  },
  {
   "cell_type": "code",
   "execution_count": null,
   "metadata": {},
   "outputs": [],
   "source": [
    "for md in models: \n",
    "    print(md)\n",
    "    model = model_generator(md).cuda()\n",
    "    print('TORCHINFO')\n",
    "    print(torchinfo.summary(model, input_size=(2,3,256,256)))\n",
    "    #print('MY SUMMARY')\n",
    "    #print(my_summary(model, 256, 256, 3, 2))"
   ]
  },
  {
   "cell_type": "code",
   "execution_count": null,
   "metadata": {},
   "outputs": [],
   "source": [
    "batch_size = 2"
   ]
  },
  {
   "cell_type": "code",
   "execution_count": null,
   "metadata": {},
   "outputs": [],
   "source": [
    "torchinfo.summary(model, input_size=(2,3,256,256)).keys()"
   ]
  },
  {
   "cell_type": "code",
   "execution_count": null,
   "metadata": {},
   "outputs": [],
   "source": [
    "torchinfo.summary(model, input_size=(1,3,256,256))"
   ]
  },
  {
   "cell_type": "code",
   "execution_count": null,
   "metadata": {},
   "outputs": [],
   "source": [
    "my_summary(model, 256, 256, 31, 1)"
   ]
  },
  {
   "cell_type": "code",
   "execution_count": null,
   "metadata": {},
   "outputs": [],
   "source": [
    "torchinfo.summary(model, input)"
   ]
  },
  {
   "cell_type": "code",
   "execution_count": null,
   "metadata": {},
   "outputs": [],
   "source": []
  }
 ],
 "metadata": {
  "kernelspec": {
   "display_name": "mst_compare_torch",
   "language": "python",
   "name": "python3"
  },
  "language_info": {
   "codemirror_mode": {
    "name": "ipython",
    "version": 3
   },
   "file_extension": ".py",
   "mimetype": "text/x-python",
   "name": "python",
   "nbconvert_exporter": "python",
   "pygments_lexer": "ipython3",
   "version": "3.8.19"
  }
 },
 "nbformat": 4,
 "nbformat_minor": 2
}
